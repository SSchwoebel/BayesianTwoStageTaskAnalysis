{
 "cells": [
  {
   "cell_type": "markdown",
   "id": "e312cbbd",
   "metadata": {},
   "source": [
    "# Simulate data using behavioral model and perform parameter recovery"
   ]
  },
  {
   "cell_type": "markdown",
   "id": "b7510528",
   "metadata": {},
   "source": [
    "Tell python that the code submodule is code that we want to import and run"
   ]
  },
  {
   "cell_type": "code",
   "execution_count": 2,
   "id": "f60063be",
   "metadata": {},
   "outputs": [
    {
     "name": "stdout",
     "output_type": "stream",
     "text": [
      "torch threads 1\n"
     ]
    }
   ],
   "source": [
    "import sys\n",
    "sys.path.append('code/BalancingControl')\n",
    "\n",
    "import recovery_utils as ru"
   ]
  },
  {
   "cell_type": "markdown",
   "id": "c91a3e01",
   "metadata": {},
   "source": [
    "Other imports that we need for simulation, inference, and plotting"
   ]
  },
  {
   "cell_type": "code",
   "execution_count": 4,
   "id": "74cb1f3d",
   "metadata": {},
   "outputs": [],
   "source": [
    "import torch\n",
    "import pyro"
   ]
  },
  {
   "cell_type": "markdown",
   "id": "2d1026c5",
   "metadata": {},
   "source": [
    "Experiment parameters"
   ]
  },
  {
   "cell_type": "code",
   "execution_count": 6,
   "id": "94f96574",
   "metadata": {},
   "outputs": [],
   "source": [
    "trials =  201#number of trials\n",
    "T = 3 #number of time steps in each trial\n",
    "nb = 4 # number of bandits, ie second level rewards\n",
    "ns = 3+nb #number of states\n",
    "no = ns #number of observations\n",
    "na = 2 #number of actions\n",
    "npi = na**(T-1)\n",
    "nr = 2"
   ]
  },
  {
   "cell_type": "code",
   "execution_count": null,
   "id": "0d57e02a",
   "metadata": {},
   "outputs": [],
   "source": []
  }
 ],
 "metadata": {
  "kernelspec": {
   "display_name": "Python 3 (ipykernel)",
   "language": "python",
   "name": "python3"
  },
  "language_info": {
   "codemirror_mode": {
    "name": "ipython",
    "version": 3
   },
   "file_extension": ".py",
   "mimetype": "text/x-python",
   "name": "python",
   "nbconvert_exporter": "python",
   "pygments_lexer": "ipython3",
   "version": "3.11.5"
  }
 },
 "nbformat": 4,
 "nbformat_minor": 5
}
