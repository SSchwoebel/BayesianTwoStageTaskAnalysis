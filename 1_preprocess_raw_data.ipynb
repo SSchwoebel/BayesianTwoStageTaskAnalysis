{
 "cells": [
  {
   "cell_type": "markdown",
   "id": "b9d571c5",
   "metadata": {},
   "source": [
    "# This notebook preprocesses the raw data\n",
    "### from quality control to creating a clean aggregate data set"
   ]
  },
  {
   "cell_type": "code",
   "execution_count": null,
   "id": "61f20f64",
   "metadata": {},
   "outputs": [],
   "source": []
  }
 ],
 "metadata": {
  "kernelspec": {
   "display_name": "Python 3 (ipykernel)",
   "language": "python",
   "name": "python3"
  },
  "language_info": {
   "codemirror_mode": {
    "name": "ipython",
    "version": 3
   },
   "file_extension": ".py",
   "mimetype": "text/x-python",
   "name": "python",
   "nbconvert_exporter": "python",
   "pygments_lexer": "ipython3",
   "version": "3.11.5"
  }
 },
 "nbformat": 4,
 "nbformat_minor": 5
}
