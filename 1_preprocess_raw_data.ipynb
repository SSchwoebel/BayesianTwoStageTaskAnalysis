{
 "cells": [
  {
   "cell_type": "markdown",
   "id": "b9d571c5",
   "metadata": {},
   "source": [
    "# This notebook preprocesses the raw data\n",
    "### from quality control to creating a clean aggregate data set\n",
    "\n",
    "Input: raw data in the raw_data folder\n",
    "\n",
    "Output: clean data in csv form in processed_data folder"
   ]
  },
  {
   "cell_type": "markdown",
   "id": "ba729dce-e004-4557-94f0-5dd717456633",
   "metadata": {},
   "source": [
    "Imports"
   ]
  },
  {
   "cell_type": "code",
   "execution_count": 1,
   "id": "b413327f-3a1c-4075-b57c-557e8033acb0",
   "metadata": {},
   "outputs": [],
   "source": [
    "import os\n",
    "import pandas as pd\n",
    "import seaborn as sns\n",
    "import matplotlib.pylab as plt"
   ]
  },
  {
   "cell_type": "markdown",
   "id": "96dbe789-7fba-4ac0-a537-24c67760a992",
   "metadata": {},
   "source": [
    "Set global variables and propertes"
   ]
  },
  {
   "cell_type": "code",
   "execution_count": 2,
   "id": "19474f52-1374-4f9b-9abb-70bee2564ff5",
   "metadata": {},
   "outputs": [],
   "source": [
    "raw_data_fname_str = \"\"\n",
    "raw_data_folder = \"raw_data\"\n",
    "\n",
    "processed_data_fname = \"processed_data.csv\"\n",
    "processed_data_folder = \"processed_data\"\n",
    "processed_data_file = os.path.join(processed_data_folder, processed_data_fname)"
   ]
  },
  {
   "cell_type": "markdown",
   "id": "3fa5dc00-a599-41b0-9b49-cf007527c19b",
   "metadata": {},
   "source": [
    "Create test data frame"
   ]
  },
  {
   "cell_type": "code",
   "execution_count": 3,
   "id": "cef7dd5b-b9a2-4aa6-964b-0506d41ef121",
   "metadata": {},
   "outputs": [],
   "source": [
    "processed_data = pd.DataFrame({\"subject\": [], \"trial\": [], \"valid\": [], \n",
    "                               \"choices first stage\": [], \"choices second stage\": [], \n",
    "                               \"RTs first stage\": [], \"RTs second stage\": [], \n",
    "                               \"states first stage\": [], \"states second stage\": [], \n",
    "                               \"outcomes first stage\": [], \"outcomes second stage\": []})"
   ]
  },
  {
   "cell_type": "markdown",
   "id": "1029b7fd-35c2-4ee3-870a-e788914a91de",
   "metadata": {},
   "source": [
    "Save as CSV"
   ]
  },
  {
   "cell_type": "code",
   "execution_count": 4,
   "id": "c6ff8a0c-8e1b-422d-921c-39bdd2b9a910",
   "metadata": {},
   "outputs": [],
   "source": [
    "processed_data.to_csv(processed_data_file)"
   ]
  },
  {
   "cell_type": "markdown",
   "id": "58ca9cd7-bfd6-453e-a248-4371752f3268",
   "metadata": {},
   "source": [
    "Read the CSV to test that writing worked"
   ]
  },
  {
   "cell_type": "code",
   "execution_count": 5,
   "id": "12d5b6ae-b676-48ee-b01f-278127a3eb3f",
   "metadata": {},
   "outputs": [
    {
     "name": "stdout",
     "output_type": "stream",
     "text": [
      "Empty DataFrame\n",
      "Columns: [Unnamed: 0, subject, trial, valid, choices first stage, choices second stage, RTs first stage, RTs second stage, states first stage, states second stage, outcomes first stage, outcomes second stage]\n",
      "Index: []\n"
     ]
    }
   ],
   "source": [
    "test_data = pd.read_csv(processed_data_file)\n",
    "\n",
    "print(test_data)"
   ]
  }
 ],
 "metadata": {
  "kernelspec": {
   "display_name": "Python 3 (ipykernel)",
   "language": "python",
   "name": "python3"
  },
  "language_info": {
   "codemirror_mode": {
    "name": "ipython",
    "version": 3
   },
   "file_extension": ".py",
   "mimetype": "text/x-python",
   "name": "python",
   "nbconvert_exporter": "python",
   "pygments_lexer": "ipython3",
   "version": "3.10.8"
  }
 },
 "nbformat": 4,
 "nbformat_minor": 5
}
