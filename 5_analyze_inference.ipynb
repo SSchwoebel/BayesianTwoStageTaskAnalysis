{
 "cells": [
  {
   "cell_type": "markdown",
   "id": "ed7487d8",
   "metadata": {},
   "source": [
    "# statistical analysis of inference results"
   ]
  },
  {
   "cell_type": "code",
   "execution_count": null,
   "id": "b1595867",
   "metadata": {},
   "outputs": [],
   "source": []
  }
 ],
 "metadata": {
  "kernelspec": {
   "display_name": "Python 3 (ipykernel)",
   "language": "python",
   "name": "python3"
  },
  "language_info": {
   "codemirror_mode": {
    "name": "ipython",
    "version": 3
   },
   "file_extension": ".py",
   "mimetype": "text/x-python",
   "name": "python",
   "nbconvert_exporter": "python",
   "pygments_lexer": "ipython3",
   "version": "3.11.5"
  }
 },
 "nbformat": 4,
 "nbformat_minor": 5
}
